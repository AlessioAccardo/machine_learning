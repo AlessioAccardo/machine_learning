{
  "nbformat": 4,
  "nbformat_minor": 0,
  "metadata": {
    "colab": {
      "provenance": [],
      "authorship_tag": "ABX9TyOAzv/R5y79SVV2FvlAgqXy",
      "include_colab_link": true
    },
    "kernelspec": {
      "name": "python3",
      "display_name": "Python 3"
    },
    "language_info": {
      "name": "python"
    }
  },
  "cells": [
    {
      "cell_type": "markdown",
      "metadata": {
        "id": "view-in-github",
        "colab_type": "text"
      },
      "source": [
        "<a href=\"https://colab.research.google.com/github/AlessioAccardo/machine_learning/blob/main/Es1.ipynb\" target=\"_parent\"><img src=\"https://colab.research.google.com/assets/colab-badge.svg\" alt=\"Open In Colab\"/></a>"
      ]
    },
    {
      "cell_type": "code",
      "execution_count": null,
      "metadata": {
        "id": "1XqxsYuE1GbB"
      },
      "outputs": [],
      "source": []
    },
    {
      "cell_type": "code",
      "source": [
        "def classifica_email_gratis_manuale(email_text):\n",
        "\n",
        "  # Probabilità a priori (Prior) - Stimate dai dati ipotetici iniziali\n",
        "  p_spam = 0.1                      # P(Spam)\n",
        "  p_non_spam = 0.9                  # P(Non Spam)\n",
        "\n",
        "  # Verosimiglianze (Likelihood) - Stimate dai dati ipotetici iniziali\n",
        "  p_gratis_dato_spam = 0.8          # P(\"GRATIS\"|Spam)\n",
        "  p_gratis_dato_non_spam = 0.11     # P(\"GRATIS\"|Non Spam)\n",
        "\n",
        "  # Verifica se la parola \"GRATIS\" è presente nell'email (case-sensitive)\n",
        "  if \"gratis\" in email_text.lower():\n",
        "    parola_gratis_presente = True\n",
        "  else:\n",
        "    parola_gratis_presente = False\n",
        "\n",
        "  if parola_gratis_presente:\n",
        "    # Calcola il numeratore del Teorema di Bayes per Spam e Non Spam\n",
        "    numeratore_spam = p_gratis_dato_spam * p_spam\n",
        "    numeratore_non_spam = p_gratis_dato_non_spam * p_spam\n",
        "\n",
        "    if numeratore_spam > numeratore_non_spam:\n",
        "      return \"Spam\"\n",
        "    else:\n",
        "      return \"Non Spam\"\n",
        "  else:\n",
        "    if p_spam > p_non_spam:\n",
        "      return \"Spam\"\n",
        "    else:\n",
        "      return \"Non Spam\"\n",
        "\n",
        "# Esempi di email da classificare\n",
        "email1 = \"Offerta speciale! Vinci un premio GRATIS\"\n",
        "email2 = \"Ciao, come stai? Tutto bene oggi?\"\n",
        "email3 = \"Scopri i nuovi prodotti in offerta.\"\n",
        "email4 = \"GRATIS solo per te!\"\n",
        "\n",
        "# Classifica le email e stampa i risultati\n",
        "print(f\"Email '{email1}' classificata come => {classifica_email_gratis_manuale(email1)}\")\n",
        "print(f\"Email '{email2}' classificata come => {classifica_email_gratis_manuale(email2)}\")\n",
        "print(f\"Email '{email3}' classificata come => {classifica_email_gratis_manuale(email3)}\")\n",
        "print(f\"Email '{email4}' classificata come => {classifica_email_gratis_manuale(email4)}\")\n",
        "\n",
        "\n"
      ],
      "metadata": {
        "colab": {
          "base_uri": "https://localhost:8080/"
        },
        "id": "YXwCgv5l1Qv_",
        "outputId": "5f20a2bc-5c82-4fdd-e975-1446957ad634"
      },
      "execution_count": 1,
      "outputs": [
        {
          "output_type": "stream",
          "name": "stdout",
          "text": [
            "Email 'Offerta speciale! Vinci un premio GRATIS' classificata come => Spam\n",
            "Email 'Ciao, come stai? Tutto bene oggi?' classificata come => Non Spam\n",
            "Email 'Scopri i nuovi prodotti in offerta.' classificata come => Non Spam\n",
            "Email 'GRATIS solo per te!' classificata come => Spam\n"
          ]
        }
      ]
    },
    {
      "cell_type": "code",
      "source": [
        "import csv\n",
        "import os\n",
        "from sklearn.naive_bayes import MultinomialNB\n",
        "from sklearn.feature_extraction.text import CountVectorizer\n",
        "from sklearn.model_selection import train_test_split\n",
        "from sklearn.metrics import accuracy_score, classification_report, confusion_matrix\n",
        "import numpy as np\n",
        "import matplotlib.pyplot as plt\n",
        "import seaborn as sns\n",
        "\n",
        "\n",
        "\n",
        "testi = []\n",
        "etichette = []\n",
        "\n",
        "with open('email_dataset_2.csv', 'r', encoding='utf-8') as csvfile:\n",
        "  reader = csv.DictReader(csvfile)            # Usa DictReader per accedere alle colonne per nome\n",
        "  for row in reader:\n",
        "    testi.append(row['text'])                 # Aggiungi il testo dell'email alla lista 'testi'\n",
        "    etichette.append(int(row['label']))       # Aggiungi l'etichetta (convertita in intero) alla lista 'etichette'\n",
        "\n",
        "# 1. Vettorizzazione del testo (trasformare il testo in numeri)\n",
        "vectorizer = CountVectorizer()\n",
        "X = vectorizer.fit_transform(testi)\n",
        "\n",
        "y = etichette\n",
        "\n",
        "# 2. Dividere i dati in training e test set\n",
        "X_train, X_test, y_train, y_test = train_test_split(X, y, test_size = 0.3, random_state = 42)\n",
        "\n",
        "# 3. Creare e addestrare il classificatore Multinomial Naive Bayes\n",
        "clf = MultinomialNB()\n",
        "clf.fit(X_train, y_train)\n",
        "\n",
        "# 4. Fare previsioni sul test set\n",
        "y_pred = clf.predict(X_test)\n",
        "\n",
        "# 5. Valutare l'accuratezza del classificatore\n",
        "accuratezza = accuracy_score(y_test, y_pred)\n",
        "print(f\"Accuratezza del classificatore Naive Bayes: {accuratezza:.2f}\")\n",
        "\n",
        "# 6. Provare a classificatore nuove email (esempi)\n",
        "nuove_email = [\n",
        "    \"Hai vinto un buono Amazon da 500 euro! Clicca qui per riscuotere!\",\n",
        "    \"Ciao, ti volevo chiedere se hai visto quel film che ti ho consigliato.\",\n",
        "    \"Offerta lampo! Smart TV 4K a metà prezzo solo per oggi!\",\n",
        "    \"Domani dobbiamo andare a prendere i bambini a scuola alle 16:30.\"\n",
        "]\n",
        "\n",
        "nuove_email_vettorizzate = vectorizer.transform(nuove_email)\n",
        "\n",
        "previsioni = clf.predict(nuove_email_vettorizzate)\n",
        "\n",
        "for i, email in enumerate(nuove_email):\n",
        "  if previsioni[i] == 1:\n",
        "    print(f\"Email: '{email[:50]}...' -> Classificata come: Spam\")\n",
        "  else:\n",
        "    print(f\"Email: '{email[:50]}...' -> Classificata come: No Spam\")\n",
        "\n",
        "# Matrice di confusione\n",
        "conf_matrix = confusion_matrix(y_test, y_pred)\n",
        "conf_matrix_norm = conf_matrix.astype('float') / conf_matrix.sum(axis=1)[:, np.newaxis]   # Calcola la matrice di confusione confrontando le previsioni con i valori reali\n",
        "\n",
        "plt.figure(figsize=(8,6))   # Crea una nuova figura con dimensioni 8x6 pollici\n",
        "\n",
        "class_names = [\"Non Spam\", \"Spam\"]    # Definisci i nomi delle classi per spam e non spam\n",
        "\n",
        "sns.heatmap(conf_matrix_norm * 100, annot=True, cmap='Blues', fmt='.1f', xticklabels=class_names, yticklabels=class_names)\n",
        "# Crea una heatmap della matrice di confusione utilizzando seaborn.\n",
        "# annot=True: mostra i valori numerici in ogni cella\n",
        "# cmap='Blues': usa la palette di colori Blues\n",
        "# fmt='.1f': formatta i numeri come float con una cifra decimale\n",
        "# xticklabels=class_names: etichette per l'asse x (classi predette)\n",
        "# yticklabels=class_name: etichette per l'asse y (classi reali)\n",
        "\n",
        "plt.xlabel('Predicted Label')     # Imposta l'etichetta dell'asse x come 'Predicted Label'\n",
        "plt.ylabel('True Label')          # Imposta l'etichetta dell'asse y come 'True Label'\n",
        "plt.title('Confusion Matrix - Naive Bayes Spam Classifier')\n",
        "# Titolo più descrittivo\n",
        "# Imposta il titolo del grafico come 'Confusion Matrix'.\n",
        "\n",
        "plt.show()       # Mostra il grafico.\n",
        "\n"
      ],
      "metadata": {
        "colab": {
          "base_uri": "https://localhost:8080/",
          "height": 649
        },
        "id": "qEglUVHb7DXn",
        "outputId": "7b84c9f4-fa85-4e89-9c33-70bcad26b0c6"
      },
      "execution_count": 6,
      "outputs": [
        {
          "output_type": "stream",
          "name": "stdout",
          "text": [
            "Accuratezza del classificatore Naive Bayes: 1.00\n",
            "Email: 'Hai vinto un buono Amazon da 500 euro! Clicca qui ...' -> Classificata come: Spam\n",
            "Email: 'Ciao, ti volevo chiedere se hai visto quel film ch...' -> Classificata come: No Spam\n",
            "Email: 'Offerta lampo! Smart TV 4K a metà prezzo solo per ...' -> Classificata come: Spam\n",
            "Email: 'Domani dobbiamo andare a prendere i bambini a scuo...' -> Classificata come: No Spam\n"
          ]
        },
        {
          "output_type": "display_data",
          "data": {
            "text/plain": [
              "<Figure size 800x600 with 2 Axes>"
            ],
            "image/png": "[encoded data removed]"
          },
          "metadata": {}
        }
      ]
    }
  ]
}